{
 "cells": [
  {
   "cell_type": "markdown",
   "id": "eb78a450",
   "metadata": {},
   "source": [
    "# Analyzing a Multiline String and Generating the Unique Word Count\n",
    "\n"
   ]
  },
  {
   "cell_type": "markdown",
   "id": "a6becbf9",
   "metadata": {},
   "source": [
    "# You have to do the following: \n",
    "\n",
    "# 1. Get multiline text and save it in a Python variable.\n",
    "\n",
    "# 2. Get rid of all new lines in it using string methods.\n",
    "\n",
    "# 3. Get all the unique words and their occurrences from the string.\n",
    "\n",
    "# 4. Repeat the steps to find all unique words and occurrences, without considering case sensitivity."
   ]
  },
  {
   "cell_type": "code",
   "execution_count": 9,
   "id": "b2b60e8f",
   "metadata": {},
   "outputs": [
    {
     "name": "stdout",
     "output_type": "stream",
     "text": [
      "Human evolution is the lengthy process of change by which people originated from apelike ancestors. Scientific evidence shows that the physical and behavioral traits shared by all people originated from apelike ancestors and evolved over a period of approximately six million years.\n",
      "One of the earliest defining human traits, bipedalism -- the ability to walk on two legs -- evolved over 4 million years ago. Other important human characteristics -- such as a large and complex brain, the ability to make and use tools, and the capacity for language -- developed more recently. Many advanced traits -- including complex symbolic expression, art, and elaborate cultural diversity -- emerged mainly during the past 100,000 years.\n",
      "Humans are primates. Physical and genetic similarities show that the modern human species,ˇHomo sapiens, has a very close relationship to another group of primate species, the apes. Humans and the great apes (large apes) of Africa -- chimpanzees (including bonobos, or so-called ?pygmy chimpanzees?) and gorillas -- share a common ancestor that lived between 8 and 6 million years ago. Humans first evolved in Africa, and much of human evolution occurred on that continent. The fossils of early humans who lived between 6 and 2 million years ago come entirely from Africa.\n",
      "Most scientists currently recognize some 15 to 20 different species of early humans. Scientists do not all agree, however, about how these species are related or which ones simply died out. Many early human species -- certainly the majority of them ? left no living descendants. Scientists also debate over how to identify and classify particular species of early humans, and about what factors influenced the evolution and extinction of each species.\n",
      "Early humans first migrated out of Africa into Asia probably between 2 million and 1.8 million years ago. They entered Europe somewhat later, between 1.5 million and 1 million years. Species of modern humans populated many parts of the world much later. For instance, people first came to Australia probably within the past 60,000 years and to the Americas within the past 30,000 years or so. The beginnings of agriculture and the rise of the first civilizations occurred within the past 12,000 years.\n"
     ]
    }
   ],
   "source": [
    "# These are the steps to guide you through solving this activity:\n",
    "\n",
    "# 1. Create a 'mutliline_text' variable by downloading text from link and assigning it to the 'multiline_text' variable. \n",
    "# https://github.com/bhardwajalok/DAI-101/blob/fc08eada17eccd79cad4760387f2a7ff222914a3/1_Basics_ProblemSet.txt\n",
    "\n",
    "\n",
    "# Code\n",
    "multiline_text = \"\"\"Human evolution is the lengthy process of change by which people originated from apelike ancestors. Scientific evidence shows that the physical and behavioral traits shared by all people originated from apelike ancestors and evolved over a period of approximately six million years.\n",
    "One of the earliest defining human traits, bipedalism -- the ability to walk on two legs -- evolved over 4 million years ago. Other important human characteristics -- such as a large and complex brain, the ability to make and use tools, and the capacity for language -- developed more recently. Many advanced traits -- including complex symbolic expression, art, and elaborate cultural diversity -- emerged mainly during the past 100,000 years.\n",
    "Humans are primates. Physical and genetic similarities show that the modern human species,ˇHomo sapiens, has a very close relationship to another group of primate species, the apes. Humans and the great apes (large apes) of Africa -- chimpanzees (including bonobos, or so-called ?pygmy chimpanzees?) and gorillas -- share a common ancestor that lived between 8 and 6 million years ago. Humans first evolved in Africa, and much of human evolution occurred on that continent. The fossils of early humans who lived between 6 and 2 million years ago come entirely from Africa.\n",
    "Most scientists currently recognize some 15 to 20 different species of early humans. Scientists do not all agree, however, about how these species are related or which ones simply died out. Many early human species -- certainly the majority of them ? left no living descendants. Scientists also debate over how to identify and classify particular species of early humans, and about what factors influenced the evolution and extinction of each species.\n",
    "Early humans first migrated out of Africa into Asia probably between 2 million and 1.8 million years ago. They entered Europe somewhat later, between 1.5 million and 1 million years. Species of modern humans populated many parts of the world much later. For instance, people first came to Australia probably within the past 60,000 years and to the Americas within the past 30,000 years or so. The beginnings of agriculture and the rise of the first civilizations occurred within the past 12,000 years.\"\"\"\n",
    "\n",
    "print (multiline_text)"
   ]
  },
  {
   "cell_type": "code",
   "execution_count": 7,
   "id": "d7743c89",
   "metadata": {},
   "outputs": [
    {
     "name": "stdout",
     "output_type": "stream",
     "text": [
      "<class 'str'>\n",
      "2254\n"
     ]
    }
   ],
   "source": [
    "# 2. Find the type and length of the multiline_text string using the 'type' and 'len' commands.\n",
    "\n",
    "# Code\n",
    "print (type(multiline_text))\n",
    "print (len(multiline_text))"
   ]
  },
  {
   "cell_type": "code",
   "execution_count": 8,
   "id": "2485705e",
   "metadata": {},
   "outputs": [
    {
     "name": "stdout",
     "output_type": "stream",
     "text": [
      "Human evolution is the lengthy process of change by which people originated from apelike ancestors. Scientific evidence shows that the physical and behavioral traits shared by all people originated from apelike ancestors and evolved over a period of approximately six million years.One of the earliest defining human traits, bipedalism -- the ability to walk on two legs -- evolved over 4 million years ago. Other important human characteristics -- such as a large and complex brain, the ability to make and use tools, and the capacity for language -- developed more recently. Many advanced traits -- including complex symbolic expression, art, and elaborate cultural diversity -- emerged mainly during the past 100,000 years.Humans are primates. Physical and genetic similarities show that the modern human species,ˇHomo sapiens, has a very close relationship to another group of primate species, the apes. Humans and the great apes (large apes) of Africa -- chimpanzees (including bonobos, or so-called ?pygmy chimpanzees?) and gorillas -- share a common ancestor that lived between 8 and 6 million years ago. Humans first evolved in Africa, and much of human evolution occurred on that continent. The fossils of early humans who lived between 6 and 2 million years ago come entirely from Africa.Most scientists currently recognize some 15 to 20 different species of early humans. Scientists do not all agree, however, about how these species are related or which ones simply died out. Many early human species -- certainly the majority of them ? left no living descendants. Scientists also debate over how to identify and classify particular species of early humans, and about what factors influenced the evolution and extinction of each species.Early humans first migrated out of Africa into Asia probably between 2 million and 1.8 million years ago. They entered Europe somewhat later, between 1.5 million and 1 million years. Species of modern humans populated many parts of the world much later. For instance, people first came to Australia probably within the past 60,000 years and to the Americas within the past 30,000 years or so. The beginnings of agriculture and the rise of the first civilizations occurred within the past 12,000 years.\n"
     ]
    }
   ],
   "source": [
    "# 3. Remove all new lines and symbols using the 'replace' method.\n",
    "\n",
    "# Code\n",
    "multiline_text1 = multiline_text.replace('\\n', \"\")\n",
    "print (multiline_text1)"
   ]
  },
  {
   "cell_type": "code",
   "execution_count": 13,
   "id": "8ea9503f",
   "metadata": {},
   "outputs": [
    {
     "name": "stdout",
     "output_type": "stream",
     "text": [
      "Human evolution is the lengthy process of change by which people originated from apelike ancestors  Scientific evidence shows that the physical and behavioral traits shared by all people originated from apelike ancestors and evolved over a period of approximately six million years One of the earliest defining human traits  bipedalism    the ability to walk on two legs    evolved over 4 million years ago  Other important human characteristics    such as a large and complex brain  the ability to make and use tools  and the capacity for language    developed more recently  Many advanced traits    including complex symbolic expression  art  and elaborate cultural diversity    emerged mainly during the past 100 000 years Humans are primates  Physical and genetic similarities show that the modern human species ˇHomo sapiens  has a very close relationship to another group of primate species  the apes  Humans and the great apes  large apes  of Africa    chimpanzees  including bonobos  or so called  pygmy chimpanzees   and gorillas    share a common ancestor that lived between 8 and 6 million years ago  Humans first evolved in Africa  and much of human evolution occurred on that continent  The fossils of early humans who lived between 6 and 2 million years ago come entirely from Africa Most scientists currently recognize some 15 to 20 different species of early humans  Scientists do not all agree  however  about how these species are related or which ones simply died out  Many early human species    certainly the majority of them   left no living descendants  Scientists also debate over how to identify and classify particular species of early humans  and about what factors influenced the evolution and extinction of each species Early humans first migrated out of Africa into Asia probably between 2 million and 1 8 million years ago  They entered Europe somewhat later  between 1 5 million and 1 million years  Species of modern humans populated many parts of the world much later  For instance  people first came to Australia probably within the past 60 000 years and to the Americas within the past 30 000 years or so  The beginnings of agriculture and the rise of the first civilizations occurred within the past 12 000 years \n"
     ]
    }
   ],
   "source": [
    "# 4. Find all of the words in multiline_text using the split method.\n",
    "\n",
    "# Code\n",
    "# remove special characters, punctuations etc.\n",
    "cleaned_multiline_text = \"\"\n",
    "for char in multiline_text1:\n",
    "    if char == \" \":\n",
    "        cleaned_multiline_text += char\n",
    "    elif char.isalnum():\n",
    "        cleaned_multiline_text += char    \n",
    "    else:\n",
    "        cleaned_multiline_text += \" \"\n",
    "            \n",
    "print (cleaned_multiline_text)"
   ]
  },
  {
   "cell_type": "code",
   "execution_count": 16,
   "id": "7ebdb591",
   "metadata": {},
   "outputs": [
    {
     "name": "stdout",
     "output_type": "stream",
     "text": [
      "359\n",
      "********************\n",
      "['Human', 'evolution', 'is', 'the', 'lengthy', 'process', 'of', 'change', 'by', 'which', 'people', 'originated', 'from', 'apelike', 'ancestors', 'Scientific', 'evidence', 'shows', 'that', 'the', 'physical', 'and', 'behavioral', 'traits', 'shared', 'by', 'all', 'people', 'originated', 'from', 'apelike', 'ancestors', 'and', 'evolved', 'over', 'a', 'period', 'of', 'approximately', 'six', 'million', 'years', 'One', 'of', 'the', 'earliest', 'defining', 'human', 'traits', 'bipedalism', 'the', 'ability', 'to', 'walk', 'on', 'two', 'legs', 'evolved', 'over', '4', 'million', 'years', 'ago', 'Other', 'important', 'human', 'characteristics', 'such', 'as', 'a', 'large', 'and', 'complex', 'brain', 'the', 'ability', 'to', 'make', 'and', 'use', 'tools', 'and', 'the', 'capacity', 'for', 'language', 'developed', 'more', 'recently', 'Many', 'advanced', 'traits', 'including', 'complex', 'symbolic', 'expression', 'art', 'and', 'elaborate', 'cultural', 'diversity', 'emerged', 'mainly', 'during', 'the', 'past', '100', '000', 'years', 'Humans', 'are', 'primates', 'Physical', 'and', 'genetic', 'similarities', 'show', 'that', 'the', 'modern', 'human', 'species', 'ˇHomo', 'sapiens', 'has', 'a', 'very', 'close', 'relationship', 'to', 'another', 'group', 'of', 'primate', 'species', 'the', 'apes', 'Humans', 'and', 'the', 'great', 'apes', 'large', 'apes', 'of', 'Africa', 'chimpanzees', 'including', 'bonobos', 'or', 'so', 'called', 'pygmy', 'chimpanzees', 'and', 'gorillas', 'share', 'a', 'common', 'ancestor', 'that', 'lived', 'between', '8', 'and', '6', 'million', 'years', 'ago', 'Humans', 'first', 'evolved', 'in', 'Africa', 'and', 'much', 'of', 'human', 'evolution', 'occurred', 'on', 'that', 'continent', 'The', 'fossils', 'of', 'early', 'humans', 'who', 'lived', 'between', '6', 'and', '2', 'million', 'years', 'ago', 'come', 'entirely', 'from', 'Africa', 'Most', 'scientists', 'currently', 'recognize', 'some', '15', 'to', '20', 'different', 'species', 'of', 'early', 'humans', 'Scientists', 'do', 'not', 'all', 'agree', 'however', 'about', 'how', 'these', 'species', 'are', 'related', 'or', 'which', 'ones', 'simply', 'died', 'out', 'Many', 'early', 'human', 'species', 'certainly', 'the', 'majority', 'of', 'them', 'left', 'no', 'living', 'descendants', 'Scientists', 'also', 'debate', 'over', 'how', 'to', 'identify', 'and', 'classify', 'particular', 'species', 'of', 'early', 'humans', 'and', 'about', 'what', 'factors', 'influenced', 'the', 'evolution', 'and', 'extinction', 'of', 'each', 'species', 'Early', 'humans', 'first', 'migrated', 'out', 'of', 'Africa', 'into', 'Asia', 'probably', 'between', '2', 'million', 'and', '1', '8', 'million', 'years', 'ago', 'They', 'entered', 'Europe', 'somewhat', 'later', 'between', '1', '5', 'million', 'and', '1', 'million', 'years', 'Species', 'of', 'modern', 'humans', 'populated', 'many', 'parts', 'of', 'the', 'world', 'much', 'later', 'For', 'instance', 'people', 'first', 'came', 'to', 'Australia', 'probably', 'within', 'the', 'past', '60', '000', 'years', 'and', 'to', 'the', 'Americas', 'within', 'the', 'past', '30', '000', 'years', 'or', 'so', 'The', 'beginnings', 'of', 'agriculture', 'and', 'the', 'rise', 'of', 'the', 'first', 'civilizations', 'occurred', 'within', 'the', 'past', '12', '000', 'years']\n"
     ]
    }
   ],
   "source": [
    "# 5. Create a list from this list that will contain only the unique words.\n",
    "\n",
    "# Code\n",
    "list_of_words = cleaned_multiline_text.split()\n",
    "print (len(list_of_words))\n",
    "print ('*'*20)\n",
    "print (list_of_words)"
   ]
  },
  {
   "cell_type": "code",
   "execution_count": 21,
   "id": "a6f9378f",
   "metadata": {},
   "outputs": [
    {
     "name": "stdout",
     "output_type": "stream",
     "text": [
      "194\n",
      "********************\n",
      "{'Human': None, 'evolution': None, 'is': None, 'the': None, 'lengthy': None, 'process': None, 'of': None, 'change': None, 'by': None, 'which': None, 'people': None, 'originated': None, 'from': None, 'apelike': None, 'ancestors': None, 'Scientific': None, 'evidence': None, 'shows': None, 'that': None, 'physical': None, 'and': None, 'behavioral': None, 'traits': None, 'shared': None, 'all': None, 'evolved': None, 'over': None, 'a': None, 'period': None, 'approximately': None, 'six': None, 'million': None, 'years': None, 'One': None, 'earliest': None, 'defining': None, 'human': None, 'bipedalism': None, 'ability': None, 'to': None, 'walk': None, 'on': None, 'two': None, 'legs': None, '4': None, 'ago': None, 'Other': None, 'important': None, 'characteristics': None, 'such': None, 'as': None, 'large': None, 'complex': None, 'brain': None, 'make': None, 'use': None, 'tools': None, 'capacity': None, 'for': None, 'language': None, 'developed': None, 'more': None, 'recently': None, 'Many': None, 'advanced': None, 'including': None, 'symbolic': None, 'expression': None, 'art': None, 'elaborate': None, 'cultural': None, 'diversity': None, 'emerged': None, 'mainly': None, 'during': None, 'past': None, '100': None, '000': None, 'Humans': None, 'are': None, 'primates': None, 'Physical': None, 'genetic': None, 'similarities': None, 'show': None, 'modern': None, 'species': None, 'ˇHomo': None, 'sapiens': None, 'has': None, 'very': None, 'close': None, 'relationship': None, 'another': None, 'group': None, 'primate': None, 'apes': None, 'great': None, 'Africa': None, 'chimpanzees': None, 'bonobos': None, 'or': None, 'so': None, 'called': None, 'pygmy': None, 'gorillas': None, 'share': None, 'common': None, 'ancestor': None, 'lived': None, 'between': None, '8': None, '6': None, 'first': None, 'in': None, 'much': None, 'occurred': None, 'continent': None, 'The': None, 'fossils': None, 'early': None, 'humans': None, 'who': None, '2': None, 'come': None, 'entirely': None, 'Most': None, 'scientists': None, 'currently': None, 'recognize': None, 'some': None, '15': None, '20': None, 'different': None, 'Scientists': None, 'do': None, 'not': None, 'agree': None, 'however': None, 'about': None, 'how': None, 'these': None, 'related': None, 'ones': None, 'simply': None, 'died': None, 'out': None, 'certainly': None, 'majority': None, 'them': None, 'left': None, 'no': None, 'living': None, 'descendants': None, 'also': None, 'debate': None, 'identify': None, 'classify': None, 'particular': None, 'what': None, 'factors': None, 'influenced': None, 'extinction': None, 'each': None, 'Early': None, 'migrated': None, 'into': None, 'Asia': None, 'probably': None, '1': None, 'They': None, 'entered': None, 'Europe': None, 'somewhat': None, 'later': None, '5': None, 'Species': None, 'populated': None, 'many': None, 'parts': None, 'world': None, 'For': None, 'instance': None, 'came': None, 'Australia': None, 'within': None, '60': None, 'Americas': None, '30': None, 'beginnings': None, 'agriculture': None, 'rise': None, 'civilizations': None, '12': None}\n",
      "****************************************\n"
     ]
    },
    {
     "data": {
      "text/plain": [
       "{'Human': 1,\n",
       " 'evolution': 3,\n",
       " 'is': 1,\n",
       " 'the': 19,\n",
       " 'lengthy': 1,\n",
       " 'process': 1,\n",
       " 'of': 16,\n",
       " 'change': 1,\n",
       " 'by': 2,\n",
       " 'which': 2,\n",
       " 'people': 3,\n",
       " 'originated': 2,\n",
       " 'from': 3,\n",
       " 'apelike': 2,\n",
       " 'ancestors': 2,\n",
       " 'Scientific': 1,\n",
       " 'evidence': 1,\n",
       " 'shows': 1,\n",
       " 'that': 4,\n",
       " 'physical': 1,\n",
       " 'and': 19,\n",
       " 'behavioral': 1,\n",
       " 'traits': 3,\n",
       " 'shared': 1,\n",
       " 'all': 2,\n",
       " 'evolved': 3,\n",
       " 'over': 3,\n",
       " 'a': 4,\n",
       " 'period': 1,\n",
       " 'approximately': 1,\n",
       " 'six': 1,\n",
       " 'million': 8,\n",
       " 'years': 10,\n",
       " 'One': 1,\n",
       " 'earliest': 1,\n",
       " 'defining': 1,\n",
       " 'human': 5,\n",
       " 'bipedalism': 1,\n",
       " 'ability': 2,\n",
       " 'to': 7,\n",
       " 'walk': 1,\n",
       " 'on': 2,\n",
       " 'two': 1,\n",
       " 'legs': 1,\n",
       " '4': 1,\n",
       " 'ago': 4,\n",
       " 'Other': 1,\n",
       " 'important': 1,\n",
       " 'characteristics': 1,\n",
       " 'such': 1,\n",
       " 'as': 1,\n",
       " 'large': 2,\n",
       " 'complex': 2,\n",
       " 'brain': 1,\n",
       " 'make': 1,\n",
       " 'use': 1,\n",
       " 'tools': 1,\n",
       " 'capacity': 1,\n",
       " 'for': 1,\n",
       " 'language': 1,\n",
       " 'developed': 1,\n",
       " 'more': 1,\n",
       " 'recently': 1,\n",
       " 'Many': 2,\n",
       " 'advanced': 1,\n",
       " 'including': 2,\n",
       " 'symbolic': 1,\n",
       " 'expression': 1,\n",
       " 'art': 1,\n",
       " 'elaborate': 1,\n",
       " 'cultural': 1,\n",
       " 'diversity': 1,\n",
       " 'emerged': 1,\n",
       " 'mainly': 1,\n",
       " 'during': 1,\n",
       " 'past': 4,\n",
       " '100': 1,\n",
       " '000': 4,\n",
       " 'Humans': 3,\n",
       " 'are': 2,\n",
       " 'primates': 1,\n",
       " 'Physical': 1,\n",
       " 'genetic': 1,\n",
       " 'similarities': 1,\n",
       " 'show': 1,\n",
       " 'modern': 2,\n",
       " 'species': 7,\n",
       " 'ˇHomo': 1,\n",
       " 'sapiens': 1,\n",
       " 'has': 1,\n",
       " 'very': 1,\n",
       " 'close': 1,\n",
       " 'relationship': 1,\n",
       " 'another': 1,\n",
       " 'group': 1,\n",
       " 'primate': 1,\n",
       " 'apes': 3,\n",
       " 'great': 1,\n",
       " 'Africa': 4,\n",
       " 'chimpanzees': 2,\n",
       " 'bonobos': 1,\n",
       " 'or': 3,\n",
       " 'so': 2,\n",
       " 'called': 1,\n",
       " 'pygmy': 1,\n",
       " 'gorillas': 1,\n",
       " 'share': 1,\n",
       " 'common': 1,\n",
       " 'ancestor': 1,\n",
       " 'lived': 2,\n",
       " 'between': 4,\n",
       " '8': 2,\n",
       " '6': 2,\n",
       " 'first': 4,\n",
       " 'in': 1,\n",
       " 'much': 2,\n",
       " 'occurred': 2,\n",
       " 'continent': 1,\n",
       " 'The': 2,\n",
       " 'fossils': 1,\n",
       " 'early': 4,\n",
       " 'humans': 5,\n",
       " 'who': 1,\n",
       " '2': 2,\n",
       " 'come': 1,\n",
       " 'entirely': 1,\n",
       " 'Most': 1,\n",
       " 'scientists': 1,\n",
       " 'currently': 1,\n",
       " 'recognize': 1,\n",
       " 'some': 1,\n",
       " '15': 1,\n",
       " '20': 1,\n",
       " 'different': 1,\n",
       " 'Scientists': 2,\n",
       " 'do': 1,\n",
       " 'not': 1,\n",
       " 'agree': 1,\n",
       " 'however': 1,\n",
       " 'about': 2,\n",
       " 'how': 2,\n",
       " 'these': 1,\n",
       " 'related': 1,\n",
       " 'ones': 1,\n",
       " 'simply': 1,\n",
       " 'died': 1,\n",
       " 'out': 2,\n",
       " 'certainly': 1,\n",
       " 'majority': 1,\n",
       " 'them': 1,\n",
       " 'left': 1,\n",
       " 'no': 1,\n",
       " 'living': 1,\n",
       " 'descendants': 1,\n",
       " 'also': 1,\n",
       " 'debate': 1,\n",
       " 'identify': 1,\n",
       " 'classify': 1,\n",
       " 'particular': 1,\n",
       " 'what': 1,\n",
       " 'factors': 1,\n",
       " 'influenced': 1,\n",
       " 'extinction': 1,\n",
       " 'each': 1,\n",
       " 'Early': 1,\n",
       " 'migrated': 1,\n",
       " 'into': 1,\n",
       " 'Asia': 1,\n",
       " 'probably': 2,\n",
       " '1': 3,\n",
       " 'They': 1,\n",
       " 'entered': 1,\n",
       " 'Europe': 1,\n",
       " 'somewhat': 1,\n",
       " 'later': 2,\n",
       " '5': 1,\n",
       " 'Species': 1,\n",
       " 'populated': 1,\n",
       " 'many': 1,\n",
       " 'parts': 1,\n",
       " 'world': 1,\n",
       " 'For': 1,\n",
       " 'instance': 1,\n",
       " 'came': 1,\n",
       " 'Australia': 1,\n",
       " 'within': 3,\n",
       " '60': 1,\n",
       " 'Americas': 1,\n",
       " '30': 1,\n",
       " 'beginnings': 1,\n",
       " 'agriculture': 1,\n",
       " 'rise': 1,\n",
       " 'civilizations': 1,\n",
       " '12': 1}"
      ]
     },
     "execution_count": 21,
     "metadata": {},
     "output_type": "execute_result"
    }
   ],
   "source": [
    "# 6. Count the number of times the unique word has appeared in the list using the key and value in dict.\n",
    "\n",
    "# Code\n",
    "# below code will create a dictionary with words as keys and values as 'None'. \n",
    "unique_words_as_dict = dict.fromkeys(list_of_words)\n",
    "print (len(list(unique_words_as_dict.keys())))\n",
    "print ('*'*20)\n",
    "print (unique_words_as_dict)\n",
    "print ('*'*40)\n",
    "#############################################################\n",
    "# code for adding frequency or repeatition of words. \n",
    "for word in list_of_words:\n",
    "    if unique_words_as_dict[word] is None:\n",
    "        unique_words_as_dict[word] = 1\n",
    "    else:\n",
    "        unique_words_as_dict[word] += 1\n",
    "unique_words_as_dict"
   ]
  },
  {
   "cell_type": "code",
   "execution_count": 26,
   "id": "b5bd6f8c",
   "metadata": {},
   "outputs": [
    {
     "name": "stdout",
     "output_type": "stream",
     "text": [
      "dict_items([('Human', 1), ('evolution', 3), ('is', 1), ('the', 19), ('lengthy', 1), ('process', 1), ('of', 16), ('change', 1), ('by', 2), ('which', 2), ('people', 3), ('originated', 2), ('from', 3), ('apelike', 2), ('ancestors', 2), ('Scientific', 1), ('evidence', 1), ('shows', 1), ('that', 4), ('physical', 1), ('and', 19), ('behavioral', 1), ('traits', 3), ('shared', 1), ('all', 2), ('evolved', 3), ('over', 3), ('a', 4), ('period', 1), ('approximately', 1), ('six', 1), ('million', 8), ('years', 10), ('One', 1), ('earliest', 1), ('defining', 1), ('human', 5), ('bipedalism', 1), ('ability', 2), ('to', 7), ('walk', 1), ('on', 2), ('two', 1), ('legs', 1), ('4', 1), ('ago', 4), ('Other', 1), ('important', 1), ('characteristics', 1), ('such', 1), ('as', 1), ('large', 2), ('complex', 2), ('brain', 1), ('make', 1), ('use', 1), ('tools', 1), ('capacity', 1), ('for', 1), ('language', 1), ('developed', 1), ('more', 1), ('recently', 1), ('Many', 2), ('advanced', 1), ('including', 2), ('symbolic', 1), ('expression', 1), ('art', 1), ('elaborate', 1), ('cultural', 1), ('diversity', 1), ('emerged', 1), ('mainly', 1), ('during', 1), ('past', 4), ('100', 1), ('000', 4), ('Humans', 3), ('are', 2), ('primates', 1), ('Physical', 1), ('genetic', 1), ('similarities', 1), ('show', 1), ('modern', 2), ('species', 7), ('ˇHomo', 1), ('sapiens', 1), ('has', 1), ('very', 1), ('close', 1), ('relationship', 1), ('another', 1), ('group', 1), ('primate', 1), ('apes', 3), ('great', 1), ('Africa', 4), ('chimpanzees', 2), ('bonobos', 1), ('or', 3), ('so', 2), ('called', 1), ('pygmy', 1), ('gorillas', 1), ('share', 1), ('common', 1), ('ancestor', 1), ('lived', 2), ('between', 4), ('8', 2), ('6', 2), ('first', 4), ('in', 1), ('much', 2), ('occurred', 2), ('continent', 1), ('The', 2), ('fossils', 1), ('early', 4), ('humans', 5), ('who', 1), ('2', 2), ('come', 1), ('entirely', 1), ('Most', 1), ('scientists', 1), ('currently', 1), ('recognize', 1), ('some', 1), ('15', 1), ('20', 1), ('different', 1), ('Scientists', 2), ('do', 1), ('not', 1), ('agree', 1), ('however', 1), ('about', 2), ('how', 2), ('these', 1), ('related', 1), ('ones', 1), ('simply', 1), ('died', 1), ('out', 2), ('certainly', 1), ('majority', 1), ('them', 1), ('left', 1), ('no', 1), ('living', 1), ('descendants', 1), ('also', 1), ('debate', 1), ('identify', 1), ('classify', 1), ('particular', 1), ('what', 1), ('factors', 1), ('influenced', 1), ('extinction', 1), ('each', 1), ('Early', 1), ('migrated', 1), ('into', 1), ('Asia', 1), ('probably', 2), ('1', 3), ('They', 1), ('entered', 1), ('Europe', 1), ('somewhat', 1), ('later', 2), ('5', 1), ('Species', 1), ('populated', 1), ('many', 1), ('parts', 1), ('world', 1), ('For', 1), ('instance', 1), ('came', 1), ('Australia', 1), ('within', 3), ('60', 1), ('Americas', 1), ('30', 1), ('beginnings', 1), ('agriculture', 1), ('rise', 1), ('civilizations', 1), ('12', 1)])\n",
      "****************************************\n",
      "[('the', 19), ('and', 19), ('of', 16), ('years', 10), ('million', 8), ('to', 7), ('species', 7), ('human', 5), ('humans', 5), ('that', 4), ('a', 4), ('ago', 4), ('past', 4), ('000', 4), ('Africa', 4), ('between', 4), ('first', 4), ('early', 4), ('evolution', 3), ('people', 3), ('from', 3), ('traits', 3), ('evolved', 3), ('over', 3), ('Humans', 3)]\n",
      "****************************************\n",
      "<class 'list'>\n"
     ]
    }
   ],
   "source": [
    "# 7. Find the top 25 words from the unique words that you have found, using the 'slice' method.\n",
    "\n",
    "# Code\n",
    "print (unique_words_as_dict.items())\n",
    "print ('*'*40)\n",
    "# sorted(iterable, key, reverse=True) \n",
    "# dictionary is iterable, key is a user-defined function that will apply sort function on values given by key\n",
    "# lambda are small functions that apply on each element of given dictionary here\n",
    "# tuple_from_dict is each element and tuple_from_dict[1] is the value used for sorting\n",
    "# reverse = True sorts in descending order\n",
    "# WE WILL LEARN LAMBDA FUNCTIONS SOON! \n",
    "top_words = sorted(unique_words_as_dict.items(), key=lambda tuple_from_dict: tuple_from_dict[1], reverse=True)\n",
    "print (top_words[:25])\n",
    "print ('*'*40)\n",
    "print (type(top_words))"
   ]
  }
 ],
 "metadata": {
  "kernelspec": {
   "display_name": "Python [conda env:eda_env] *",
   "language": "python",
   "name": "conda-env-eda_env-py"
  },
  "language_info": {
   "codemirror_mode": {
    "name": "ipython",
    "version": 3
   },
   "file_extension": ".py",
   "mimetype": "text/x-python",
   "name": "python",
   "nbconvert_exporter": "python",
   "pygments_lexer": "ipython3",
   "version": "3.11.8"
  }
 },
 "nbformat": 4,
 "nbformat_minor": 5
}
