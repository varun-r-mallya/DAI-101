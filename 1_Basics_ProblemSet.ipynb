{
 "cells": [
  {
   "cell_type": "markdown",
   "id": "eb78a450",
   "metadata": {},
   "source": [
    "# Analyzing a Multiline String and Generating the Unique Word Count\n",
    "\n"
   ]
  },
  {
   "cell_type": "markdown",
   "id": "a6becbf9",
   "metadata": {},
   "source": [
    "# You have to do the following: \n",
    "\n",
    "# 1. Get multiline text and save it in a Python variable.\n",
    "\n",
    "# 2. Get rid of all new lines in it using string methods.\n",
    "\n",
    "# 3. Get all the unique words and their occurrences from the string.\n",
    "\n",
    "# 4. Repeat the steps to find all unique words and occurrences, without considering case sensitivity."
   ]
  },
  {
   "cell_type": "code",
   "execution_count": 1,
   "id": "b2b60e8f",
   "metadata": {},
   "outputs": [],
   "source": [
    "# These are the steps to guide you through solving this activity:\n",
    "\n",
    "# 1. Create a 'mutliline_text' variable by downloading text from link and assigning it to the 'multiline_text' variable. \n",
    "# https://github.com/bhardwajalok/DAI-101/blob/fc08eada17eccd79cad4760387f2a7ff222914a3/1_Basics_ProblemSet.txt\n",
    "\n",
    "\n",
    "# Code\n"
   ]
  },
  {
   "cell_type": "code",
   "execution_count": 2,
   "id": "d7743c89",
   "metadata": {},
   "outputs": [],
   "source": [
    "# 2. Find the type and length of the multiline_text string using the 'type' and 'len' commands.\n",
    "\n",
    "# Code\n"
   ]
  },
  {
   "cell_type": "code",
   "execution_count": 3,
   "id": "2485705e",
   "metadata": {},
   "outputs": [],
   "source": [
    "# 3. Remove all new lines and symbols using the 'replace' method.\n",
    "\n",
    "# Code\n"
   ]
  },
  {
   "cell_type": "code",
   "execution_count": 7,
   "id": "8ea9503f",
   "metadata": {},
   "outputs": [],
   "source": [
    "# 4. Find all of the words in multiline_text using the split method.\n",
    "\n",
    "# Code\n",
    "\n"
   ]
  },
  {
   "cell_type": "code",
   "execution_count": 5,
   "id": "7ebdb591",
   "metadata": {},
   "outputs": [],
   "source": [
    "# 5. Create a list from this list that will contain only the unique words.\n",
    "\n",
    "# Code\n"
   ]
  },
  {
   "cell_type": "code",
   "execution_count": 6,
   "id": "a6f9378f",
   "metadata": {},
   "outputs": [],
   "source": [
    "# 6. Count the number of times the unique word has appeared in the list using the key and value in dict.\n",
    "\n",
    "# Code\n",
    "\n"
   ]
  },
  {
   "cell_type": "code",
   "execution_count": 8,
   "id": "b5bd6f8c",
   "metadata": {},
   "outputs": [],
   "source": [
    "# 7. Find the top 25 words from the unique words that you have found using the 'slice' method.\n",
    "\n",
    "# Code\n"
   ]
  }
 ],
 "metadata": {
  "kernelspec": {
   "display_name": "Python [conda env:eda_env] *",
   "language": "python",
   "name": "conda-env-eda_env-py"
  },
  "language_info": {
   "codemirror_mode": {
    "name": "ipython",
    "version": 3
   },
   "file_extension": ".py",
   "mimetype": "text/x-python",
   "name": "python",
   "nbconvert_exporter": "python",
   "pygments_lexer": "ipython3",
   "version": "3.11.8"
  }
 },
 "nbformat": 4,
 "nbformat_minor": 5
}
