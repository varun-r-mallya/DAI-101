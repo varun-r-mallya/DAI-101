{
 "cells": [
  {
   "cell_type": "markdown",
   "metadata": {},
   "source": [
    "## Problem Statement\n",
    "find an imbalanced dataset (or generate a dataset) with fewer classes to apply oversampling or undersampling techniques (random over and undersampling, tomek link, smot and class weighing). Train the model on balanced dataset and find the performances metrics (accuracy, F1 score and AUC) and compare which technique is improving model performance. "
   ]
  },
  {
   "cell_type": "code",
   "execution_count": 1,
   "metadata": {},
   "outputs": [],
   "source": [
    "import numpy as np\n",
    "import pandas as pd\n",
    "import matplotlib.pyplot as plt\n",
    "from sklearn.model_selection import train_test_split\n",
    "from sklearn.linear_model import LogisticRegression\n",
    "from sklearn.metrics import accuracy_score, f1_score, roc_auc_score, confusion_matrix\n",
    "from imblearn.over_sampling import SMOTE, RandomOverSampler\n",
    "from imblearn.under_sampling import RandomUnderSampler, TomekLinks\n",
    "\n",
    "df = pd.read_csv('weatherAUS.csv')\n",
    "df = df.dropna()"
   ]
  },
  {
   "cell_type": "code",
   "execution_count": 2,
   "metadata": {},
   "outputs": [],
   "source": [
    "# Drop rows with missing target values\n",
    "df = df.dropna(subset=['RainTomorrow'])\n",
    "\n",
    "# Convert the target variable to binary\n",
    "df['RainTomorrow'] = df['RainTomorrow'].apply(lambda x: 1 if x == 'Yes' else 0)\n",
    "df['RainToday'] = df['RainToday'].apply(lambda x: 1 if x == 'Yes' else 0)\n",
    "\n",
    "# Select features and target variable\n",
    "X = df.drop([\"Date\", \"RainTomorrow\"], axis=1)\n",
    "# X = df.drop([\"Date\", \"Evaporation\", \"Sunshine\", \"WindGustDir\", \"WindDir9am\", \"WindDir3pm\", \"Cloud9am\", \"Cloud3pm\", \"RainToday\", \"RainTomorrow\", \"Location\"], axis=1)\n",
    "y = df['RainToday']\n",
    "# Get dummies on location\n",
    "X = pd.get_dummies(X, columns=['Location'], drop_first=True)\n",
    "X = pd.get_dummies(X, columns=['WindGustDir'], drop_first=True)\n",
    "X = pd.get_dummies(X, columns=['WindDir3pm'], drop_first=True)\n",
    "X = pd.get_dummies(X, columns=['WindDir9am'], drop_first=True)"
   ]
  },
  {
   "cell_type": "code",
   "execution_count": 3,
   "metadata": {},
   "outputs": [],
   "source": [
    "X_train, X_test, y_train, y_test = train_test_split(X, y, test_size=0.3, random_state=42)"
   ]
  },
  {
   "cell_type": "code",
   "execution_count": 4,
   "metadata": {},
   "outputs": [
    {
     "name": "stderr",
     "output_type": "stream",
     "text": [
      "c:\\Users\\varun\\Desktop\\DAI-101\\.venv\\Lib\\site-packages\\sklearn\\linear_model\\_logistic.py:469: ConvergenceWarning: lbfgs failed to converge (status=1):\n",
      "STOP: TOTAL NO. of ITERATIONS REACHED LIMIT.\n",
      "\n",
      "Increase the number of iterations (max_iter) or scale the data as shown in:\n",
      "    https://scikit-learn.org/stable/modules/preprocessing.html\n",
      "Please also refer to the documentation for alternative solver options:\n",
      "    https://scikit-learn.org/stable/modules/linear_model.html#logistic-regression\n",
      "  n_iter_i = _check_optimize_result(\n"
     ]
    }
   ],
   "source": [
    "lr = LogisticRegression()\n",
    "lr.fit(X_train, y_train)\n",
    "y_pred = lr.predict(X_test)\n",
    "\n",
    "baseline_acc = accuracy_score(y_test, y_pred)\n",
    "baseline_f1 = f1_score(y_test, y_pred)\n",
    "baseline_auc = roc_auc_score(y_test, lr.predict_proba(X_test)[:, 1])\n"
   ]
  },
  {
   "cell_type": "code",
   "execution_count": 11,
   "metadata": {},
   "outputs": [
    {
     "name": "stdout",
     "output_type": "stream",
     "text": [
      "[[12967   181]\n",
      " [  203 13024]]\n"
     ]
    },
    {
     "name": "stderr",
     "output_type": "stream",
     "text": [
      "c:\\Users\\varun\\Desktop\\DAI-101\\.venv\\Lib\\site-packages\\sklearn\\linear_model\\_logistic.py:469: ConvergenceWarning: lbfgs failed to converge (status=1):\n",
      "STOP: TOTAL NO. of ITERATIONS REACHED LIMIT.\n",
      "\n",
      "Increase the number of iterations (max_iter) or scale the data as shown in:\n",
      "    https://scikit-learn.org/stable/modules/preprocessing.html\n",
      "Please also refer to the documentation for alternative solver options:\n",
      "    https://scikit-learn.org/stable/modules/linear_model.html#logistic-regression\n",
      "  n_iter_i = _check_optimize_result(\n"
     ]
    },
    {
     "data": {
      "image/png": "[encoded data removed]",
      "text/plain": [
       "<Figure size 800x600 with 2 Axes>"
      ]
     },
     "metadata": {},
     "output_type": "display_data"
    }
   ],
   "source": [
    "\n",
    "# 2. Random Oversampling\n",
    "ros = RandomOverSampler(random_state=42)\n",
    "X_res, y_res = ros.fit_resample(X, y)\n",
    "X_train_res, X_test_res, y_train_res, y_test_res = train_test_split(X_res, y_res, test_size=0.3, random_state=42)\n",
    "lr.fit(X_train_res, y_train_res)\n",
    "y_pred_ros = lr.predict(X_test_res)\n",
    "\n",
    "ros_acc = accuracy_score(y_test_res, y_pred_ros)\n",
    "ros_f1 = f1_score(y_test_res, y_pred_ros)\n",
    "ros_auc = roc_auc_score(y_test_res, lr.predict_proba(X_test_res)[:, 1])\n",
    "conf_mat = confusion_matrix(y_test_res, y_pred_ros)\n",
    "print(conf_mat)\n",
    "# confusion matrix plot\n",
    "plt.figure(figsize=(8, 6))\n",
    "plt.imshow(conf_mat, cmap='Blues')\n",
    "plt.colorbar()\n",
    "plt.title('Confusion Matrix')\n",
    "plt.xlabel('Predicted Label')\n",
    "plt.ylabel('True Label')\n",
    "plt.xticks([0, 1])\n",
    "plt.yticks([0, 1])\n",
    "plt.show()\n"
   ]
  },
  {
   "cell_type": "code",
   "execution_count": 6,
   "metadata": {},
   "outputs": [
    {
     "name": "stderr",
     "output_type": "stream",
     "text": [
      "c:\\Users\\varun\\Desktop\\DAI-101\\.venv\\Lib\\site-packages\\sklearn\\linear_model\\_logistic.py:469: ConvergenceWarning: lbfgs failed to converge (status=1):\n",
      "STOP: TOTAL NO. of ITERATIONS REACHED LIMIT.\n",
      "\n",
      "Increase the number of iterations (max_iter) or scale the data as shown in:\n",
      "    https://scikit-learn.org/stable/modules/preprocessing.html\n",
      "Please also refer to the documentation for alternative solver options:\n",
      "    https://scikit-learn.org/stable/modules/linear_model.html#logistic-regression\n",
      "  n_iter_i = _check_optimize_result(\n"
     ]
    }
   ],
   "source": [
    "\n",
    "# 2. Random Undersampling\n",
    "rus = RandomUnderSampler(random_state=42)\n",
    "X_rus, y_rus = ros.fit_resample(X, y)\n",
    "X_train_rus, X_test_rus, y_train_rus, y_test_rus = train_test_split(X_rus, y_rus, test_size=0.3, random_state=42)\n",
    "lr.fit(X_rus, y_rus)\n",
    "y_pred_rus = lr.predict(X_test_rus)\n",
    "\n",
    "rus_acc = accuracy_score(y_test_rus, y_pred_rus)\n",
    "rus_f1 = f1_score(y_test_rus, y_pred_rus)\n",
    "rus_auc = roc_auc_score(y_test_rus, lr.predict_proba(X_test_rus)[:, 1])\n"
   ]
  },
  {
   "cell_type": "code",
   "execution_count": 7,
   "metadata": {},
   "outputs": [
    {
     "name": "stderr",
     "output_type": "stream",
     "text": [
      "c:\\Users\\varun\\Desktop\\DAI-101\\.venv\\Lib\\site-packages\\sklearn\\linear_model\\_logistic.py:469: ConvergenceWarning: lbfgs failed to converge (status=1):\n",
      "STOP: TOTAL NO. of ITERATIONS REACHED LIMIT.\n",
      "\n",
      "Increase the number of iterations (max_iter) or scale the data as shown in:\n",
      "    https://scikit-learn.org/stable/modules/preprocessing.html\n",
      "Please also refer to the documentation for alternative solver options:\n",
      "    https://scikit-learn.org/stable/modules/linear_model.html#logistic-regression\n",
      "  n_iter_i = _check_optimize_result(\n"
     ]
    }
   ],
   "source": [
    "# 3. SMOTE\n",
    "smote = SMOTE(random_state=42)\n",
    "X_smote, y_smote = ros.fit_resample(X, y)\n",
    "X_train_smote, X_test_smote, y_train_smote, y_test_smote = train_test_split(X_smote, y_smote, test_size=0.3, random_state=42)\n",
    "lr.fit(X_smote, y_smote)\n",
    "y_pred_smote = lr.predict(X_test_smote)\n",
    "\n",
    "smote_acc = accuracy_score(y_test_smote, y_pred_smote)\n",
    "smote_f1 = f1_score(y_test_smote, y_pred_smote)\n",
    "smote_auc = roc_auc_score(y_test_smote, lr.predict_proba(X_test_smote)[:, 1])"
   ]
  },
  {
   "cell_type": "code",
   "execution_count": 8,
   "metadata": {},
   "outputs": [
    {
     "name": "stderr",
     "output_type": "stream",
     "text": [
      "c:\\Users\\varun\\Desktop\\DAI-101\\.venv\\Lib\\site-packages\\sklearn\\linear_model\\_logistic.py:469: ConvergenceWarning: lbfgs failed to converge (status=1):\n",
      "STOP: TOTAL NO. of ITERATIONS REACHED LIMIT.\n",
      "\n",
      "Increase the number of iterations (max_iter) or scale the data as shown in:\n",
      "    https://scikit-learn.org/stable/modules/preprocessing.html\n",
      "Please also refer to the documentation for alternative solver options:\n",
      "    https://scikit-learn.org/stable/modules/linear_model.html#logistic-regression\n",
      "  n_iter_i = _check_optimize_result(\n"
     ]
    }
   ],
   "source": [
    "\n",
    "# 4. Tomek Links\n",
    "tl = TomekLinks()\n",
    "X_tl, y_tl = ros.fit_resample(X, y)\n",
    "X_train_tl, X_test_tl, y_train_tl, y_test_tl = train_test_split(X_tl, y_tl, test_size=0.3, random_state=42)\n",
    "lr.fit(X_tl, y_tl)\n",
    "y_pred_tl = lr.predict(X_test_tl)\n",
    "\n",
    "tl_acc = accuracy_score(y_test_tl, y_pred_tl)\n",
    "tl_f1 = f1_score(y_test_tl, y_pred_tl)\n",
    "tl_auc = roc_auc_score(y_test_tl, lr.predict_proba(X_test_tl)[:, 1])\n"
   ]
  },
  {
   "cell_type": "code",
   "execution_count": 9,
   "metadata": {},
   "outputs": [
    {
     "name": "stderr",
     "output_type": "stream",
     "text": [
      "c:\\Users\\varun\\Desktop\\DAI-101\\.venv\\Lib\\site-packages\\sklearn\\linear_model\\_logistic.py:469: ConvergenceWarning: lbfgs failed to converge (status=1):\n",
      "STOP: TOTAL NO. of ITERATIONS REACHED LIMIT.\n",
      "\n",
      "Increase the number of iterations (max_iter) or scale the data as shown in:\n",
      "    https://scikit-learn.org/stable/modules/preprocessing.html\n",
      "Please also refer to the documentation for alternative solver options:\n",
      "    https://scikit-learn.org/stable/modules/linear_model.html#logistic-regression\n",
      "  n_iter_i = _check_optimize_result(\n"
     ]
    }
   ],
   "source": [
    "\n",
    "# 5. Class Weighing\n",
    "lr_weighted = LogisticRegression(class_weight='balanced')\n",
    "lr_weighted.fit(X_train, y_train)\n",
    "y_pred_weighted = lr_weighted.predict(X_test)\n",
    "\n",
    "weighted_acc = accuracy_score(y_test, y_pred_weighted)\n",
    "weighted_f1 = f1_score(y_test, y_pred_weighted)\n",
    "weighted_auc = roc_auc_score(y_test, lr_weighted.predict_proba(X_test)[:, 1])\n"
   ]
  },
  {
   "cell_type": "code",
   "execution_count": 10,
   "metadata": {},
   "outputs": [
    {
     "name": "stdout",
     "output_type": "stream",
     "text": [
      "Baseline: Accuracy=0.9940919295758005, F1=0.9866915091828586, AUC=0.999749788903289\n",
      "Random Oversampling: Accuracy=0.9854407582938388, F1=0.9854721549636803, AUC=0.9988406898529616\n",
      "Random Undersampling: Accuracy=0.9846824644549763, F1=0.9846969696969697, AUC=0.9989546232665808\n",
      "SMOTE: Accuracy=0.9846824644549763, F1=0.9846969696969697, AUC=0.9989546232665808\n",
      "Tomek Links: Accuracy=0.9846824644549763, F1=0.9846969696969697, AUC=0.9989546232665808\n",
      "Class Weighing: Accuracy=0.9836937256292095, F1=0.9640625, AUC=0.9982965886610219\n"
     ]
    }
   ],
   "source": [
    "# Print performance metrics\n",
    "print(f\"Baseline: Accuracy={baseline_acc}, F1={baseline_f1}, AUC={baseline_auc}\")\n",
    "print(f\"Random Oversampling: Accuracy={ros_acc}, F1={ros_f1}, AUC={ros_auc}\")\n",
    "print(f\"Random Undersampling: Accuracy={rus_acc}, F1={rus_f1}, AUC={rus_auc}\")\n",
    "print(f\"SMOTE: Accuracy={smote_acc}, F1={smote_f1}, AUC={smote_auc}\")\n",
    "print(f\"Tomek Links: Accuracy={tl_acc}, F1={tl_f1}, AUC={tl_auc}\")\n",
    "print(f\"Class Weighing: Accuracy={weighted_acc}, F1={weighted_f1}, AUC={weighted_auc}\")"
   ]
  },
  {
   "cell_type": "markdown",
   "metadata": {},
   "source": [
    "best model is baseline"
   ]
  }
 ],
 "metadata": {
  "kernelspec": {
   "display_name": ".venv",
   "language": "python",
   "name": "python3"
  },
  "language_info": {
   "codemirror_mode": {
    "name": "ipython",
    "version": 3
   },
   "file_extension": ".py",
   "mimetype": "text/x-python",
   "name": "python",
   "nbconvert_exporter": "python",
   "pygments_lexer": "ipython3",
   "version": "3.12.7"
  }
 },
 "nbformat": 4,
 "nbformat_minor": 2
}
