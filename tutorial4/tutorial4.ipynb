{
 "cells": [
  {
   "cell_type": "markdown",
   "metadata": {},
   "source": [
    "## Problem Statement\n",
    "find an imbalanced dataset (or generate a dataset) with fewer classes to apply oversampling or undersampling techniques (random over and undersampling, tomek link, smot and class weighing). Train the model on balanced dataset and find the performances metrics (accuracy, F1 score and AUC) and compare which technique is improving model performance. "
   ]
  },
  {
   "cell_type": "code",
   "execution_count": 8,
   "metadata": {},
   "outputs": [],
   "source": [
    "import numpy as np\n",
    "import pandas as pd\n",
    "from sklearn.model_selection import train_test_split\n",
    "from sklearn.linear_model import LogisticRegression\n",
    "from sklearn.metrics import accuracy_score, f1_score, roc_auc_score\n",
    "from imblearn.over_sampling import SMOTE, RandomOverSampler\n",
    "from imblearn.under_sampling import RandomUnderSampler, TomekLinks\n",
    "\n",
    "df = pd.read_csv('creditcard.csv')\n",
    "X = df.drop('Class', axis=1)\n",
    "y = df['Class']\n",
    "\n",
    "X_train, X_test, y_train, y_test = train_test_split(X, y, test_size=0.3, random_state=42)\n"
   ]
  },
  {
   "cell_type": "code",
   "execution_count": 9,
   "metadata": {},
   "outputs": [
    {
     "name": "stderr",
     "output_type": "stream",
     "text": [
      "c:\\Users\\varun\\Desktop\\DAI-101\\.venv\\Lib\\site-packages\\sklearn\\linear_model\\_logistic.py:469: ConvergenceWarning: lbfgs failed to converge (status=1):\n",
      "STOP: TOTAL NO. of ITERATIONS REACHED LIMIT.\n",
      "\n",
      "Increase the number of iterations (max_iter) or scale the data as shown in:\n",
      "    https://scikit-learn.org/stable/modules/preprocessing.html\n",
      "Please also refer to the documentation for alternative solver options:\n",
      "    https://scikit-learn.org/stable/modules/linear_model.html#logistic-regression\n",
      "  n_iter_i = _check_optimize_result(\n"
     ]
    }
   ],
   "source": [
    "lr = LogisticRegression()\n",
    "lr.fit(X_train, y_train)\n",
    "y_pred = lr.predict(X_test)\n",
    "\n",
    "baseline_acc = accuracy_score(y_test, y_pred)\n",
    "baseline_f1 = f1_score(y_test, y_pred)\n",
    "baseline_auc = roc_auc_score(y_test, lr.predict_proba(X_test)[:, 1])\n"
   ]
  },
  {
   "cell_type": "code",
   "execution_count": 10,
   "metadata": {},
   "outputs": [
    {
     "name": "stderr",
     "output_type": "stream",
     "text": [
      "c:\\Users\\varun\\Desktop\\DAI-101\\.venv\\Lib\\site-packages\\sklearn\\linear_model\\_logistic.py:469: ConvergenceWarning: lbfgs failed to converge (status=1):\n",
      "STOP: TOTAL NO. of ITERATIONS REACHED LIMIT.\n",
      "\n",
      "Increase the number of iterations (max_iter) or scale the data as shown in:\n",
      "    https://scikit-learn.org/stable/modules/preprocessing.html\n",
      "Please also refer to the documentation for alternative solver options:\n",
      "    https://scikit-learn.org/stable/modules/linear_model.html#logistic-regression\n",
      "  n_iter_i = _check_optimize_result(\n"
     ]
    }
   ],
   "source": [
    "\n",
    "# 2. Random Oversampling\n",
    "ros = RandomOverSampler(random_state=42)\n",
    "X_res, y_res = ros.fit_resample(X_train, y_train)\n",
    "lr.fit(X_res, y_res)\n",
    "y_pred_ros = lr.predict(X_test)\n",
    "\n",
    "ros_acc = accuracy_score(y_test, y_pred_ros)\n",
    "ros_f1 = f1_score(y_test, y_pred_ros)\n",
    "ros_auc = roc_auc_score(y_test, lr.predict_proba(X_test)[:, 1])\n",
    "\n"
   ]
  },
  {
   "cell_type": "code",
   "execution_count": 11,
   "metadata": {},
   "outputs": [
    {
     "name": "stderr",
     "output_type": "stream",
     "text": [
      "c:\\Users\\varun\\Desktop\\DAI-101\\.venv\\Lib\\site-packages\\sklearn\\linear_model\\_logistic.py:469: ConvergenceWarning: lbfgs failed to converge (status=1):\n",
      "STOP: TOTAL NO. of ITERATIONS REACHED LIMIT.\n",
      "\n",
      "Increase the number of iterations (max_iter) or scale the data as shown in:\n",
      "    https://scikit-learn.org/stable/modules/preprocessing.html\n",
      "Please also refer to the documentation for alternative solver options:\n",
      "    https://scikit-learn.org/stable/modules/linear_model.html#logistic-regression\n",
      "  n_iter_i = _check_optimize_result(\n"
     ]
    }
   ],
   "source": [
    "\n",
    "# 2. Random Undersampling\n",
    "rus = RandomUnderSampler(random_state=42)\n",
    "X_rus, y_rus = rus.fit_resample(X_train, y_train)\n",
    "lr.fit(X_rus, y_rus)\n",
    "y_pred_rus = lr.predict(X_test)\n",
    "\n",
    "rus_acc = accuracy_score(y_test, y_pred_rus)\n",
    "rus_f1 = f1_score(y_test, y_pred_rus)\n",
    "rus_auc = roc_auc_score(y_test, lr.predict_proba(X_test)[:, 1])\n"
   ]
  },
  {
   "cell_type": "code",
   "execution_count": 12,
   "metadata": {},
   "outputs": [
    {
     "name": "stderr",
     "output_type": "stream",
     "text": [
      "c:\\Users\\varun\\Desktop\\DAI-101\\.venv\\Lib\\site-packages\\sklearn\\linear_model\\_logistic.py:469: ConvergenceWarning: lbfgs failed to converge (status=1):\n",
      "STOP: TOTAL NO. of ITERATIONS REACHED LIMIT.\n",
      "\n",
      "Increase the number of iterations (max_iter) or scale the data as shown in:\n",
      "    https://scikit-learn.org/stable/modules/preprocessing.html\n",
      "Please also refer to the documentation for alternative solver options:\n",
      "    https://scikit-learn.org/stable/modules/linear_model.html#logistic-regression\n",
      "  n_iter_i = _check_optimize_result(\n"
     ]
    }
   ],
   "source": [
    "\n",
    "# 3. SMOTE\n",
    "smote = SMOTE(random_state=42)\n",
    "X_sm, y_sm = smote.fit_resample(X_train, y_train)\n",
    "lr.fit(X_sm, y_sm)\n",
    "y_pred_smote = lr.predict(X_test)\n",
    "\n",
    "smote_acc = accuracy_score(y_test, y_pred_smote)\n",
    "smote_f1 = f1_score(y_test, y_pred_smote)\n",
    "smote_auc = roc_auc_score(y_test, lr.predict_proba(X_test)[:, 1])\n"
   ]
  },
  {
   "cell_type": "code",
   "execution_count": 13,
   "metadata": {},
   "outputs": [
    {
     "name": "stderr",
     "output_type": "stream",
     "text": [
      "c:\\Users\\varun\\Desktop\\DAI-101\\.venv\\Lib\\site-packages\\sklearn\\linear_model\\_logistic.py:469: ConvergenceWarning: lbfgs failed to converge (status=1):\n",
      "STOP: TOTAL NO. of ITERATIONS REACHED LIMIT.\n",
      "\n",
      "Increase the number of iterations (max_iter) or scale the data as shown in:\n",
      "    https://scikit-learn.org/stable/modules/preprocessing.html\n",
      "Please also refer to the documentation for alternative solver options:\n",
      "    https://scikit-learn.org/stable/modules/linear_model.html#logistic-regression\n",
      "  n_iter_i = _check_optimize_result(\n"
     ]
    }
   ],
   "source": [
    "\n",
    "# 4. Tomek Links\n",
    "tl = TomekLinks()\n",
    "X_tl, y_tl = tl.fit_resample(X_train, y_train)\n",
    "lr.fit(X_tl, y_tl)\n",
    "y_pred_tl = lr.predict(X_test)\n",
    "\n",
    "tl_acc = accuracy_score(y_test, y_pred_tl)\n",
    "tl_f1 = f1_score(y_test, y_pred_tl)\n",
    "tl_auc = roc_auc_score(y_test, lr.predict_proba(X_test)[:, 1])\n"
   ]
  },
  {
   "cell_type": "code",
   "execution_count": 14,
   "metadata": {},
   "outputs": [
    {
     "name": "stderr",
     "output_type": "stream",
     "text": [
      "c:\\Users\\varun\\Desktop\\DAI-101\\.venv\\Lib\\site-packages\\sklearn\\linear_model\\_logistic.py:469: ConvergenceWarning: lbfgs failed to converge (status=1):\n",
      "STOP: TOTAL NO. of ITERATIONS REACHED LIMIT.\n",
      "\n",
      "Increase the number of iterations (max_iter) or scale the data as shown in:\n",
      "    https://scikit-learn.org/stable/modules/preprocessing.html\n",
      "Please also refer to the documentation for alternative solver options:\n",
      "    https://scikit-learn.org/stable/modules/linear_model.html#logistic-regression\n",
      "  n_iter_i = _check_optimize_result(\n"
     ]
    }
   ],
   "source": [
    "\n",
    "# 5. Class Weighing\n",
    "lr_weighted = LogisticRegression(class_weight='balanced')\n",
    "lr_weighted.fit(X_train, y_train)\n",
    "y_pred_weighted = lr_weighted.predict(X_test)\n",
    "\n",
    "weighted_acc = accuracy_score(y_test, y_pred_weighted)\n",
    "weighted_f1 = f1_score(y_test, y_pred_weighted)\n",
    "weighted_auc = roc_auc_score(y_test, lr_weighted.predict_proba(X_test)[:, 1])\n"
   ]
  },
  {
   "cell_type": "code",
   "execution_count": 15,
   "metadata": {},
   "outputs": [
    {
     "name": "stdout",
     "output_type": "stream",
     "text": [
      "Baseline: Accuracy=0.9991807403766253, F1=0.7222222222222222, AUC=0.9400659486601679\n",
      "Random Oversampling: Accuracy=0.961342649485622, F1=0.06931530008453085, AUC=0.9739207492109813\n",
      "Random Undersampling: Accuracy=0.9697459124796648, F1=0.08882622488544237, AUC=0.975813049615265\n",
      "SMOTE: Accuracy=0.9825146588954039, F1=0.1423650975889782, AUC=0.9775235240332667\n",
      "Tomek Links: Accuracy=0.9988881476539916, F1=0.6387832699619772, AUC=0.9214372105178597\n",
      "Class Weighing: Accuracy=0.963800428355746, F1=0.07533632286995516, AUC=0.9768245778741003\n"
     ]
    }
   ],
   "source": [
    "# Print performance metrics\n",
    "print(f\"Baseline: Accuracy={baseline_acc}, F1={baseline_f1}, AUC={baseline_auc}\")\n",
    "print(f\"Random Oversampling: Accuracy={ros_acc}, F1={ros_f1}, AUC={ros_auc}\")\n",
    "print(f\"Random Undersampling: Accuracy={rus_acc}, F1={rus_f1}, AUC={rus_auc}\")\n",
    "print(f\"SMOTE: Accuracy={smote_acc}, F1={smote_f1}, AUC={smote_auc}\")\n",
    "print(f\"Tomek Links: Accuracy={tl_acc}, F1={tl_f1}, AUC={tl_auc}\")\n",
    "print(f\"Class Weighing: Accuracy={weighted_acc}, F1={weighted_f1}, AUC={weighted_auc}\")"
   ]
  },
  {
   "cell_type": "markdown",
   "metadata": {},
   "source": []
  }
 ],
 "metadata": {
  "kernelspec": {
   "display_name": ".venv",
   "language": "python",
   "name": "python3"
  },
  "language_info": {
   "codemirror_mode": {
    "name": "ipython",
    "version": 3
   },
   "file_extension": ".py",
   "mimetype": "text/x-python",
   "name": "python",
   "nbconvert_exporter": "python",
   "pygments_lexer": "ipython3",
   "version": "3.12.7"
  }
 },
 "nbformat": 4,
 "nbformat_minor": 2
}
