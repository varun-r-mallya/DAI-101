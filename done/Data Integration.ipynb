{
 "cells": [
  {
   "cell_type": "code",
   "execution_count": null,
   "id": "6c8968c7",
   "metadata": {},
   "outputs": [],
   "source": [
    "# Try how to perform data integration (data merging)\n",
    "# Customer information dataset\n",
    "customer_id  name         address       phone_number\n",
    "1            John Doe     123 Main St   555-555-5555\n",
    "2            Jane Doe     456 Oak Ave   555-555-5556\n",
    "3            John Smith   789 Birch Rd  555-555-5557\n",
    "\n",
    "# Purchase information dataset\n",
    "purchase_id  customer_id  purchase_date  product\n",
    "1            1            2022-01-01     T-Shirt\n",
    "2            2            2022-02-01     Hat\n",
    "3            1            2022-03-01     Shoes\n",
    "4            3            2022-04-01     Pants\n"
   ]
  },
  {
   "cell_type": "markdown",
   "id": "f08d16f7",
   "metadata": {},
   "source": [
    "To integrate (or merge) the two datasets in Python, you can use the pandas library. \n",
    "\n",
    "Import the pandas library.\n",
    "Create the two datasets as pandas DataFrames.\n",
    "Merge the DataFrames based on the common column (customer_id)."
   ]
  },
  {
   "cell_type": "code",
   "execution_count": 5,
   "id": "739b5912",
   "metadata": {},
   "outputs": [
    {
     "name": "stdout",
     "output_type": "stream",
     "text": [
      "   customer_id        name       address  phone_number  purchase_id  \\\n",
      "0            1    John Doe   123 Main St  555-555-5555            1   \n",
      "1            1    John Doe   123 Main St  555-555-5555            3   \n",
      "2            2    Jane Doe   456 Oak Ave  555-555-5556            2   \n",
      "3            3  John Smith  789 Birch Rd  555-555-5557            4   \n",
      "\n",
      "  purchase_date  product  \n",
      "0    2022-01-01  T-Shirt  \n",
      "1    2022-03-01    Shoes  \n",
      "2    2022-02-01      Hat  \n",
      "3    2022-04-01    Pants  \n"
     ]
    }
   ],
   "source": [
    "import pandas as pd\n",
    "\n",
    "# Customer information dataset\n",
    "customer_data = pd.DataFrame({\n",
    "    'customer_id': [1, 2, 3],\n",
    "    'name': ['John Doe', 'Jane Doe', 'John Smith'],\n",
    "    'address': ['123 Main St', '456 Oak Ave', '789 Birch Rd'],\n",
    "    'phone_number': ['555-555-5555', '555-555-5556', '555-555-5557']\n",
    "})\n",
    "\n",
    "# Purchase information dataset\n",
    "purchase_data = pd.DataFrame({\n",
    "    'purchase_id': [1, 2, 3, 4],\n",
    "    'customer_id': [1, 2, 1, 3],\n",
    "    'purchase_date': ['2022-01-01', '2022-02-01', '2022-03-01', '2022-04-01'],\n",
    "    'product': ['T-Shirt', 'Hat', 'Shoes', 'Pants']\n",
    "})\n",
    "\n",
    "# Merge the two datasets on 'customer_id'\n",
    "merged_data = pd.merge(customer_data, purchase_data, on='customer_id')\n",
    "\n",
    "print(merged_data)"
   ]
  },
  {
   "cell_type": "markdown",
   "id": "16f2465f",
   "metadata": {},
   "source": [
    "This merged DataFrame includes the customer information along with their corresponding purchase details."
   ]
  },
  {
   "cell_type": "markdown",
   "id": "e8949580",
   "metadata": {},
   "source": [
    "# If your data is stored in csv file as shown"
   ]
  },
  {
   "cell_type": "code",
   "execution_count": null,
   "id": "ed681ee6",
   "metadata": {},
   "outputs": [],
   "source": [
    "Customer data:\n",
    "customer_id,name,address,phone_number\n",
    "1,John Doe,123 Main St,555-555-5555\n",
    "2,Jane Doe,456 Oak Ave,555-555-5556\n",
    "3,John Smith,789 Birch Rd,555-555-5557"
   ]
  },
  {
   "cell_type": "code",
   "execution_count": null,
   "id": "e545ad86",
   "metadata": {},
   "outputs": [],
   "source": [
    "Purchase Data:\n",
    "purchase_id,customer_id,purchase_date,product\n",
    "1,1,2022-01-01,T-Shirt\n",
    "2,2,2022-02-01,Hat\n",
    "3,1,2022-03-01,Shoes\n",
    "4,3,2022-04-01,Pants"
   ]
  },
  {
   "cell_type": "code",
   "execution_count": null,
   "id": "73ebf5a4",
   "metadata": {},
   "outputs": [],
   "source": [
    "import pandas as pd\n",
    "\n",
    "# Read the CSV files into DataFrames\n",
    "customer_data = pd.read_csv('customer_data.csv')\n",
    "purchase_data = pd.read_csv('purchase_data.csv')\n",
    "\n",
    "# Merge the DataFrames on 'customer_id'\n",
    "merged_data = pd.merge(customer_data, purchase_data, on='customer_id')\n",
    "\n",
    "print(merged_data)"
   ]
  },
  {
   "cell_type": "markdown",
   "id": "0715455c",
   "metadata": {},
   "source": [
    "# If the data is already in Python dictionaries:"
   ]
  },
  {
   "cell_type": "code",
   "execution_count": 7,
   "id": "52fdbc32",
   "metadata": {},
   "outputs": [
    {
     "name": "stdout",
     "output_type": "stream",
     "text": [
      "   customer_id        name       address  phone_number  purchase_id  \\\n",
      "0            1    John Doe   123 Main St  555-555-5555            1   \n",
      "1            1    John Doe   123 Main St  555-555-5555            3   \n",
      "2            2    Jane Doe   456 Oak Ave  555-555-5556            2   \n",
      "3            3  John Smith  789 Birch Rd  555-555-5557            4   \n",
      "\n",
      "  purchase_date  product  \n",
      "0    2022-01-01  T-Shirt  \n",
      "1    2022-03-01    Shoes  \n",
      "2    2022-02-01      Hat  \n",
      "3    2022-04-01    Pants  \n"
     ]
    }
   ],
   "source": [
    "import pandas as pd\n",
    "\n",
    "# Simplified data definition\n",
    "customer_data = {\n",
    "    'customer_id': [1, 2, 3],\n",
    "    'name': ['John Doe', 'Jane Doe', 'John Smith'],\n",
    "    'address': ['123 Main St', '456 Oak Ave', '789 Birch Rd'],\n",
    "    'phone_number': ['555-555-5555', '555-555-5556', '555-555-5557']\n",
    "}\n",
    "\n",
    "purchase_data = {\n",
    "    'purchase_id': [1, 2, 3, 4],\n",
    "    'customer_id': [1, 2, 1, 3],\n",
    "    'purchase_date': ['2022-01-01', '2022-02-01', '2022-03-01', '2022-04-01'],\n",
    "    'product': ['T-Shirt', 'Hat', 'Shoes', 'Pants']\n",
    "}\n",
    "\n",
    "# Convert dictionaries to DataFrames\n",
    "customer_df = pd.DataFrame(customer_data)\n",
    "purchase_df = pd.DataFrame(purchase_data)\n",
    "\n",
    "# Merge the DataFrames\n",
    "merged_data = pd.merge(customer_df, purchase_df, on='customer_id')\n",
    "\n",
    "print(merged_data)"
   ]
  },
  {
   "cell_type": "markdown",
   "id": "a7e079cb",
   "metadata": {},
   "source": [
    "CSV/Excel/JSON: If your data is in files, use pd.read_csv(), pd.read_excel(), or pd.read_json() to read the data directly into DataFrames.\n",
    "SQL Databases: Use pd.read_sql_query() to pull data directly from a database into DataFrames.\n",
    "Dictionaries: If the data is in Python dictionaries, you can convert them to DataFrames using pd.DataFrame()."
   ]
  },
  {
   "cell_type": "markdown",
   "id": "eef19b05",
   "metadata": {},
   "source": [
    "From SQL Databases:"
   ]
  },
  {
   "cell_type": "code",
   "execution_count": null,
   "id": "0d44475f",
   "metadata": {},
   "outputs": [],
   "source": [
    "import pandas as pd\n",
    "import sqlite3\n",
    "\n",
    "# Connecting to a SQLite database\n",
    "conn = sqlite3.connect('database.db')\n",
    "\n",
    "# Reading data from SQL tables into DataFrames\n",
    "customer_data = pd.read_sql_query(\"SELECT * FROM customers\", conn)\n",
    "purchase_data = pd.read_sql_query(\"SELECT * FROM purchases\", conn)\n",
    "\n",
    "# Close the connection\n",
    "conn.close()"
   ]
  }
 ],
 "metadata": {
  "kernelspec": {
   "display_name": "Python 3 (ipykernel)",
   "language": "python",
   "name": "python3"
  },
  "language_info": {
   "codemirror_mode": {
    "name": "ipython",
    "version": 3
   },
   "file_extension": ".py",
   "mimetype": "text/x-python",
   "name": "python",
   "nbconvert_exporter": "python",
   "pygments_lexer": "ipython3",
   "version": "3.12.5"
  }
 },
 "nbformat": 4,
 "nbformat_minor": 5
}
